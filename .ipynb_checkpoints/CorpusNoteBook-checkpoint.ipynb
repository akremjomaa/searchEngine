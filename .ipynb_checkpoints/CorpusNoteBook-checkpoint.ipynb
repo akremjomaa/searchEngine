{
 "cells": [
  {
   "cell_type": "code",
   "execution_count": 1,
   "metadata": {},
   "outputs": [
    {
     "data": {
      "text/plain": [
       "True"
      ]
     },
     "execution_count": 1,
     "metadata": {},
     "output_type": "execute_result"
    }
   ],
   "source": [
    "from datetime import datetime\n",
    "import praw\n",
    "import prawcore\n",
    "import sys\n",
    "\n",
    "from models.Author import Author\n",
    "\n",
    "\n",
    "from models.document_factory import DocumentFactory\n",
    "\n",
    "\n",
    "import urllib, urllib.request\n",
    "\n",
    "\n",
    "import xmltodict\n",
    "import dill\n",
    "import os\n",
    "from dotenv import load_dotenv\n",
    "load_dotenv()\n"
   ]
  },
  {
   "cell_type": "code",
   "execution_count": 2,
   "metadata": {},
   "outputs": [],
   "source": [
    "listData = []\n",
    "\n",
    "\n",
    "\n",
    "\n",
    "def fetch_reddit_data(query, limit=10):\n",
    "    \"\"\"\n",
    "    Fetches data from Reddit and fills the listData list with it.\n",
    "    @param query: the query to search for\n",
    "    @param limit: the maximum number of posts to fetch (default: 10)\n",
    "    @return: None\n",
    "    \"\"\"\n",
    "    client_id = os.environ.get(\"REDDIT_CLIENT_ID\")\n",
    "    client_secret = os.environ.get(\"REDDIT_SECRET_ID\")\n",
    "    user_agent = os.environ.get(\"REDDIT_USER_AGENT\")\n",
    "\n",
    "    reddit = praw.Reddit(\n",
    "        client_id=client_id,\n",
    "        client_secret=client_secret,\n",
    "        user_agent=user_agent,\n",
    "    )\n",
    "\n",
    "    hot_posts = reddit.subreddit(query).hot(limit=limit)\n",
    "    try:\n",
    "        for post in hot_posts:\n",
    "            if post.selftext != \"\":\n",
    "                titre = (\n",
    "                    post.title.encode(\"utf-8\", errors=\"ignore\")\n",
    "                    .decode(\"utf-8\")\n",
    "                    .replace(\"\\n\", \"\")\n",
    "                )\n",
    "\n",
    "                auteur = str(post.author)\n",
    "                date = datetime.fromtimestamp(post.created_utc).strftime(\"%Y/%m/%d\")\n",
    "                url = post.url\n",
    "                texte = post.selftext.replace(\"\\n\", \"\")\n",
    "\n",
    "                doc = DocumentFactory.create_document(\n",
    "                    \"Reddit\",\n",
    "                    titre,\n",
    "                    auteur,\n",
    "                    date,\n",
    "                    url,\n",
    "                    texte,\n",
    "                )\n",
    "                listData.append((\"Reddit\", doc))\n",
    "    except (\n",
    "        prawcore.exceptions.Redirect,\n",
    "        prawcore.exceptions.Forbidden,\n",
    "        prawcore.exceptions.NotFound,\n",
    "        prawcore.exceptions.ServerError,\n",
    "        prawcore.exceptions.ResponseException,\n",
    "    ) as e:\n",
    "        print(\"[ERRER] -- While fetching data from Reddit, an error occured:\")\n",
    "        if e.response.status_code == 404:\n",
    "            print(\n",
    "                \"\"\"\n",
    "********************************************************\n",
    "The subreddit you entered does not exist.\n",
    "Please make sure you entered the correct subreddit name.\n",
    "********************************************************\n",
    "            \"\"\"\n",
    "            )\n",
    "        elif e.response.status_code == 403:\n",
    "            print(\n",
    "                \"\"\"\n",
    "********************************************************\n",
    "You are not allowed to access this subreddit.\n",
    "Please make sure you entered the correct subreddit name.\n",
    "********************************************************\n",
    "            \"\"\"\n",
    "            )\n",
    "        elif e.response.status_code == 302:\n",
    "            print(\n",
    "                \"\"\"\n",
    "********************************************************\n",
    "The subreddit you entered does not exist.\n",
    "Please make sure you entered the correct subreddit name.\n",
    "********************************************************\n",
    "            \"\"\"\n",
    "            )\n",
    "        elif e.response.status_code == 500:\n",
    "            print(\n",
    "                \"\"\"\n",
    "********************************************************\n",
    "An internal server error occured.\n",
    "Please try again later.\n",
    "********************************************************\n",
    "            \"\"\"\n",
    "            )\n",
    "        else:\n",
    "            print(e.response.status_code)\n",
    "            print(\"Exiting...\")\n",
    "            sys.exit(1)\n",
    "\n",
    "\n",
    "\n",
    "\n",
    "def fetch_arxiv_data(query, limit=10):\n",
    "    \"\"\"\n",
    "    Fetches data from Arxiv and fills the listData list with it.\n",
    "    @param query: the query to search for\n",
    "    @param limit: the maximum number of posts to fetch (default: 10)\n",
    "    @return: None\n",
    "    \"\"\"\n",
    "    url = (\n",
    "        \"http://export.arxiv.org/api/query?search_query=all:\"\n",
    "        + query\n",
    "        + \"&start=0&max_results=\"\n",
    "        + str(limit)\n",
    "    )\n",
    "\n",
    "    data = urllib.request.urlopen(url).read().decode(\"utf-8\")\n",
    "\n",
    "    # transform the data from xml to json\n",
    "\n",
    "    dataToJson = xmltodict.parse(data)\n",
    "\n",
    "    if (\n",
    "        \"entry\" in dataToJson[\"feed\"]\n",
    "    ):  # check if the key 'entry' exists in the json before trying to access it because it may not exist\n",
    "        adocs = dataToJson[\"feed\"][\"entry\"]\n",
    "        for aPost in adocs:\n",
    "            titre = aPost[\"title\"].replace(\"\\n\", \"\")\n",
    "            try:\n",
    "                authors = \", \".join([a[\"name\"] for a in aPost[\"author\"]])\n",
    "            except TypeError:\n",
    "                authors = aPost[\"author\"][\"name\"]\n",
    "\n",
    "            summary = aPost[\"summary\"].replace(\"\\n\", \"\")\n",
    "            date = datetime.strptime(aPost[\"published\"], \"%Y-%m-%dT%H:%M:%SZ\").strftime(\n",
    "                \"%Y/%m/%d\"\n",
    "            )\n",
    "\n",
    "            adoc = DocumentFactory.create_document(\n",
    "                \"Arxiv\",\n",
    "                titre,\n",
    "                authors,\n",
    "                date,\n",
    "                aPost[\"link\"][1][\"@href\"],\n",
    "                summary,\n",
    "            )\n",
    "            listData.append((\"Arxiv\", adoc))\n",
    "    else:\n",
    "        print(\n",
    "            \"\"\"\n",
    "[ERROR] -- While fetching data from Arxiv, an error occured:\n",
    "********************************************************\n",
    "No 'entry' key found in the (Arxiv) API response. Unable to retrieve document information.\n",
    "********************************************************\n",
    "            \"\"\"\n",
    "            )\n",
    "\n",
    "\n",
    "\n",
    "\n",
    "\n",
    "\n",
    "\n",
    "id2doc = {}\n",
    "\n",
    "\n",
    "\n",
    "def fillDocDict():\n",
    "\n",
    "    counter = 0\n",
    "    for origin, data in listData:\n",
    "        id = f\"{origin}_{counter}\"\n",
    "        id2doc[id] = data\n",
    "        counter += 1\n",
    "\n",
    "\n",
    "id2aut = {}\n",
    "authors = {}\n",
    "\n",
    "\n",
    "def fillAuthorsDict():\n",
    "    idAuthor = 0\n",
    "    for doc in id2doc.values():\n",
    "        if doc.auteur not in id2aut:\n",
    "            idAuthor += 1\n",
    "            authors[idAuthor] = Author(doc.auteur)\n",
    "            id2aut[doc.auteur] = authors[idAuthor]\n",
    "\n",
    "\n",
    "from models.Corpus import Corpus\n",
    "\n",
    "CorpusNoSingleton = Corpus\n",
    "del Corpus\n",
    "corpus = CorpusNoSingleton(\"Mon corpus\")\n",
    "\n",
    "nbPosts = 0\n",
    "\n",
    "\n",
    "def fillCorpus(docType=\"\"):\n",
    "    global nbPosts\n",
    "    for origin, d in listData:\n",
    "        if docType == origin:\n",
    "            corpus.add(d)\n",
    "            nbPosts += 1\n",
    "        else:\n",
    "            corpus.add(d)\n",
    "            nbPosts += 1\n",
    "\n",
    "\n",
    "\n",
    "\n",
    "\n"
   ]
  },
  {
   "cell_type": "code",
   "execution_count": 3,
   "metadata": {},
   "outputs": [
    {
     "data": {
      "application/vnd.jupyter.widget-view+json": {
       "model_id": "3c98771b6aaa40ddb426cdb2237ea05c",
       "version_major": 2,
       "version_minor": 0
      },
      "text/plain": [
       "Text(value='', description='Mot-clé :')"
      ]
     },
     "metadata": {},
     "output_type": "display_data"
    },
    {
     "data": {
      "application/vnd.jupyter.widget-view+json": {
       "model_id": "22bf39173a454871929383e6f3e55e97",
       "version_major": 2,
       "version_minor": 0
      },
      "text/plain": [
       "IntSlider(value=10, description=\"Nombre d'articles :\", min=1)"
      ]
     },
     "metadata": {},
     "output_type": "display_data"
    },
    {
     "data": {
      "application/vnd.jupyter.widget-view+json": {
       "model_id": "2c205f1efc64472b86ddc26a393a99aa",
       "version_major": 2,
       "version_minor": 0
      },
      "text/plain": [
       "Button(description='Valider', style=ButtonStyle())"
      ]
     },
     "metadata": {},
     "output_type": "display_data"
    }
   ],
   "source": [
    "import ipywidgets as widgets\n",
    "from IPython.display import display\n",
    "from models.decorators import singleton\n",
    "\n",
    "\n",
    "corpus = None  # Initialisation de la variable corpus\n",
    "\n",
    "\n",
    "@singleton\n",
    "class Corpus(CorpusNoSingleton):\n",
    "    pass\n",
    "\n",
    "\n",
    "mot_clef_textbox = widgets.Text(description=\"Mot-clé :\")\n",
    "nb_articles_slider = widgets.IntSlider(\n",
    "    description=\"Nombre d'articles :\", min=1, max=100, value=10\n",
    ")\n",
    "\n",
    "\n",
    "\n",
    "# Affichage des champs du formulaire\n",
    "\n",
    "\n",
    "display(mot_clef_textbox)\n",
    "\n",
    "\n",
    "display(nb_articles_slider)\n",
    "\n",
    "\n",
    "\n",
    "# Fonction pour récupérer les données lorsque l'utilisateur valide le formulaire\n",
    "\n",
    "def on_submit_button_clicked(button):\n",
    "    global corpus\n",
    "\n",
    "    corpus = Corpus(\"Mon corpus\")\n",
    "\n",
    "    query = mot_clef_textbox.value\n",
    "\n",
    "    limit = nb_articles_slider.value\n",
    "    listData = []\n",
    "    # Utilisation des valeurs saisies par l'utilisateur pour récupérer les données des deux APIs\n",
    "\n",
    "    fetch_reddit_data(query, limit // 2)\n",
    "\n",
    "    fetch_arxiv_data(query, limit // 2)\n",
    "    fillDocDict()\n",
    "    fillAuthorsDict()\n",
    "\n",
    "\n",
    "    fillCorpus()\n",
    "    with open(str(query) + \"_\" + \"corpus.pkl\", \"wb\") as f:\n",
    "        dill.dump(corpus, f)\n",
    "\n",
    "    with open(str(query) + \"_\" + \"corpus.pkl\", \"rb\") as f:\n",
    "        corpus = dill.load(f)\n",
    "    print(\"Nombre total de posts dans le corpus :\", nbPosts)\n",
    "    print(corpus)\n",
    "\n",
    "\n",
    "\n",
    "# Création du bouton de soumission du formulaire\n",
    "\n",
    "\n",
    "submit_button = widgets.Button(description=\"Valider\")\n",
    "\n",
    "\n",
    "submit_button.on_click(on_submit_button_clicked)\n",
    "\n",
    "\n",
    "display(submit_button)"
   ]
  },
  {
   "cell_type": "code",
   "execution_count": 4,
   "metadata": {},
   "outputs": [
    {
     "data": {
      "application/vnd.jupyter.widget-view+json": {
       "model_id": "4a33b9dc2dea4a11bad074c9ecae4c5f",
       "version_major": 2,
       "version_minor": 0
      },
      "text/plain": [
       "Button(description='Valider', style=ButtonStyle())"
      ]
     },
     "metadata": {},
     "output_type": "display_data"
    },
    {
     "data": {
      "application/vnd.jupyter.widget-view+json": {
       "model_id": "fa247f37ce33467bbbfb701d0a7e6c5a",
       "version_major": 2,
       "version_minor": 0
      },
      "text/plain": [
       "Text(value='', description='Enter a query to search for :')"
      ]
     },
     "metadata": {},
     "output_type": "display_data"
    },
    {
     "data": {
      "application/vnd.jupyter.widget-view+json": {
       "model_id": "13e3b36404db4da38b8bf7c5963251d2",
       "version_major": 2,
       "version_minor": 0
      },
      "text/plain": [
       "IntSlider(value=30, description='Choose a context length :', min=1)"
      ]
     },
     "metadata": {},
     "output_type": "display_data"
    }
   ],
   "source": [
    "search_box = widgets.Text(description=\"Enter a query to search for :\")\n",
    "search_length = widgets.IntSlider(\n",
    "    description=\"Choose a context length :\", min=1, max=100, value=30\n",
    ")\n",
    "search_btn = widgets.Button(description=\"Valider\")\n",
    "def on_submit_search_btn(button):\n",
    "    global corpus\n",
    "\n",
    "    query = search_box.value\n",
    "\n",
    "    nb = search_length.value\n",
    "    corpus.search(query, context_length=nb)\n",
    "\n",
    "search_btn.on_click(on_submit_search_btn)\n",
    "\n",
    "display(search_btn)\n",
    "display(search_box)\n",
    "display(search_length)\n",
    "\n"
   ]
  },
  {
   "cell_type": "code",
   "execution_count": 7,
   "metadata": {},
   "outputs": [
    {
     "data": {
      "application/vnd.jupyter.widget-view+json": {
       "model_id": "17325520f5bb4740b996623c24655f06",
       "version_major": 2,
       "version_minor": 0
      },
      "text/plain": [
       "HTML(value='<h2>Search for a keyword</h2>')"
      ]
     },
     "metadata": {},
     "output_type": "display_data"
    },
    {
     "data": {
      "application/vnd.jupyter.widget-view+json": {
       "model_id": "2cee64539e5340d3862b5e604b619689",
       "version_major": 2,
       "version_minor": 0
      },
      "text/plain": [
       "HTML(value='<b>Enter a query to search for :</b>')"
      ]
     },
     "metadata": {},
     "output_type": "display_data"
    },
    {
     "data": {
      "application/vnd.jupyter.widget-view+json": {
       "model_id": "3288a73efc19400a914b0b824ccb1319",
       "version_major": 2,
       "version_minor": 0
      },
      "text/plain": [
       "Text(value='')"
      ]
     },
     "metadata": {},
     "output_type": "display_data"
    },
    {
     "data": {
      "application/vnd.jupyter.widget-view+json": {
       "model_id": "e595bccac2e04053a174722d2e457d47",
       "version_major": 2,
       "version_minor": 0
      },
      "text/plain": [
       "HTML(value='<b>Choose a context length :</b>')"
      ]
     },
     "metadata": {},
     "output_type": "display_data"
    },
    {
     "data": {
      "application/vnd.jupyter.widget-view+json": {
       "model_id": "8a4a7dda89244a8e8281f799c836b3b0",
       "version_major": 2,
       "version_minor": 0
      },
      "text/plain": [
       "IntSlider(value=30, min=1)"
      ]
     },
     "metadata": {},
     "output_type": "display_data"
    },
    {
     "data": {
      "application/vnd.jupyter.widget-view+json": {
       "model_id": "f1b13954d3284faaaf96292170b23f39",
       "version_major": 2,
       "version_minor": 0
      },
      "text/plain": [
       "Button(description='Valider', style=ButtonStyle())"
      ]
     },
     "metadata": {},
     "output_type": "display_data"
    }
   ],
   "source": [
    "text = widgets.HTML(value=\"<h2>Search for a keyword</h2>\")\n",
    "display(text)\n",
    "\n",
    "text = widgets.HTML(value=\"<b>Enter a query to search for :</b>\")\n",
    "display(text)\n",
    "\n",
    "search_box = widgets.Text()\n",
    "display(search_box)\n",
    "\n",
    "\n",
    "\n",
    "text = widgets.HTML(value=\"<b>Choose a context length :</b>\")\n",
    "display(text)\n",
    "\n",
    "\n",
    "search_length = widgets.IntSlider(min=1, max=100, value=30)\n",
    "display(search_length)\n",
    "\n",
    "\n",
    "\n",
    "def on_submit_search_btn(button):\n",
    "    global corpus\n",
    "    query = search_box.value\n",
    "    nb = search_length.value\n",
    "    corpus.search(query, context_length=nb)\n",
    "\n",
    "\n",
    "\n",
    "\n",
    "\n",
    "search_btn = widgets.Button(description=\"Valider\")\n",
    "search_btn.on_click(on_submit_search_btn)\n",
    "\n",
    "display(search_btn)\n",
    "\n"
   ]
  },
  {
   "cell_type": "code",
   "execution_count": null,
   "metadata": {},
   "outputs": [],
   "source": []
  },
  {
   "cell_type": "code",
   "execution_count": 8,
   "metadata": {},
   "outputs": [
    {
     "data": {
      "application/vnd.jupyter.widget-view+json": {
       "model_id": "d50205c9e3194a4982574b4bced40c5b",
       "version_major": 2,
       "version_minor": 0
      },
      "text/plain": [
       "HTML(value='<h2>See the concordance of a keyword</h2>')"
      ]
     },
     "metadata": {},
     "output_type": "display_data"
    },
    {
     "data": {
      "application/vnd.jupyter.widget-view+json": {
       "model_id": "fa81993b3a45434dab978a060c70ac3f",
       "version_major": 2,
       "version_minor": 0
      },
      "text/plain": [
       "HTML(value='<b>Enter a query to search for :</b>')"
      ]
     },
     "metadata": {},
     "output_type": "display_data"
    },
    {
     "data": {
      "application/vnd.jupyter.widget-view+json": {
       "model_id": "9c4ef4a89fae498c99bf472d2a7c1618",
       "version_major": 2,
       "version_minor": 0
      },
      "text/plain": [
       "Text(value='')"
      ]
     },
     "metadata": {},
     "output_type": "display_data"
    },
    {
     "data": {
      "application/vnd.jupyter.widget-view+json": {
       "model_id": "173e216dc8754e618e04bc7deb99bd9f",
       "version_major": 2,
       "version_minor": 0
      },
      "text/plain": [
       "HTML(value='<b>Choose a left context length :</b>')"
      ]
     },
     "metadata": {},
     "output_type": "display_data"
    },
    {
     "data": {
      "application/vnd.jupyter.widget-view+json": {
       "model_id": "ada344a1e35c4ce59f6ee7893d9758fd",
       "version_major": 2,
       "version_minor": 0
      },
      "text/plain": [
       "IntSlider(value=30, min=1)"
      ]
     },
     "metadata": {},
     "output_type": "display_data"
    },
    {
     "data": {
      "application/vnd.jupyter.widget-view+json": {
       "model_id": "99bfe3b23c254507b8c8c74a00526bcf",
       "version_major": 2,
       "version_minor": 0
      },
      "text/plain": [
       "HTML(value='<b>Choose a right context length :</b>')"
      ]
     },
     "metadata": {},
     "output_type": "display_data"
    },
    {
     "data": {
      "application/vnd.jupyter.widget-view+json": {
       "model_id": "31e3c6597dc940db8562c0874313f047",
       "version_major": 2,
       "version_minor": 0
      },
      "text/plain": [
       "IntSlider(value=30, min=1)"
      ]
     },
     "metadata": {},
     "output_type": "display_data"
    },
    {
     "data": {
      "application/vnd.jupyter.widget-view+json": {
       "model_id": "241e0333ea5a40a386cd982f551e987b",
       "version_major": 2,
       "version_minor": 0
      },
      "text/plain": [
       "Button(description='Valider', style=ButtonStyle())"
      ]
     },
     "metadata": {},
     "output_type": "display_data"
    }
   ],
   "source": [
    "text = widgets.HTML(value=\"<h2>See the concordance of a keyword</h2>\")\n",
    "display(text)\n",
    "\n",
    "text = widgets.HTML(value=\"<b>Enter a query to search for :</b>\")\n",
    "display(text)\n",
    "\n",
    "search_box = widgets.Text()\n",
    "display(search_box)\n",
    "\n",
    "\n",
    "\n",
    "\n",
    "text = widgets.HTML(value=\"<b>Choose a left context length :</b>\")\n",
    "display(text)\n",
    "left_search_length = widgets.IntSlider(min=1, max=100, value=30)\n",
    "display(left_search_length)\n",
    "\n",
    "\n",
    "text = widgets.HTML(value=\"<b>Choose a right context length :</b>\")\n",
    "display(text)\n",
    "right_search_length = widgets.IntSlider(min=1, max=100, value=30)\n",
    "display(right_search_length)\n",
    "\n",
    "\n",
    "\n",
    "def on_submit_concordance_btn(button):\n",
    "    global corpus\n",
    "    query = search_box.value\n",
    "    nl = left_search_length.value\n",
    "    nr = right_search_length.value\n",
    "    df = corpus.concorde(query, taill=(nl, nr))\n",
    "    if len(df) == 0:\n",
    "        print(\"No matches found.\")\n",
    "    else:\n",
    "        print(df)\n",
    "\n",
    "\n",
    "\n",
    "search_btn = widgets.Button(description=\"Valider\")\n",
    "search_btn.on_click(on_submit_concordance_btn)\n",
    "\n",
    "display(search_btn)\n",
    "\n",
    "\n"
   ]
  },
  {
   "cell_type": "code",
   "execution_count": 9,
   "metadata": {},
   "outputs": [
    {
     "data": {
      "application/vnd.jupyter.widget-view+json": {
       "model_id": "ff8904b917844c3f8ba3a9b2f3a60918",
       "version_major": 2,
       "version_minor": 0
      },
      "text/plain": [
       "HTML(value='<h2>See the stats of the corpus</h2>')"
      ]
     },
     "metadata": {},
     "output_type": "display_data"
    },
    {
     "data": {
      "application/vnd.jupyter.widget-view+json": {
       "model_id": "72d9486ca7fd46488cd3167248078674",
       "version_major": 2,
       "version_minor": 0
      },
      "text/plain": [
       "HTML(value='<b>Enter the number of most frequent words to show :</b>')"
      ]
     },
     "metadata": {},
     "output_type": "display_data"
    },
    {
     "data": {
      "application/vnd.jupyter.widget-view+json": {
       "model_id": "da7b3bf4d6ed4247801c28dc6fe709c9",
       "version_major": 2,
       "version_minor": 0
      },
      "text/plain": [
       "IntSlider(value=30, min=1)"
      ]
     },
     "metadata": {},
     "output_type": "display_data"
    },
    {
     "data": {
      "application/vnd.jupyter.widget-view+json": {
       "model_id": "84b79535090b44d38c8b22be71b8118e",
       "version_major": 2,
       "version_minor": 0
      },
      "text/plain": [
       "Button(description='Valider', style=ButtonStyle())"
      ]
     },
     "metadata": {},
     "output_type": "display_data"
    }
   ],
   "source": [
    "text = widgets.HTML(value=\"<h2>See the stats of the corpus</h2>\")\n",
    "display(text)\n",
    "\n",
    "\n",
    "text = widgets.HTML(value=\"<b>Enter the number of most frequent words to show :</b>\")\n",
    "display(text)\n",
    "search_length = widgets.IntSlider(min=1, max=100, value=30)\n",
    "display(search_length)\n",
    "\n",
    "\n",
    "\n",
    "def on_submit_cstats_btn(button):\n",
    "    global corpus\n",
    "    query = search_box.value\n",
    "    n = search_length.value\n",
    "    corpus.stats(top_n=n)\n",
    "\n",
    "\n",
    "search_btn = widgets.Button(description=\"Valider\")\n",
    "search_btn.on_click(on_submit_cstats_btn)\n",
    "\n",
    "display(search_btn)\n",
    "\n",
    "\n"
   ]
  },
  {
   "cell_type": "code",
   "execution_count": 11,
   "metadata": {},
   "outputs": [
    {
     "data": {
      "application/vnd.jupyter.widget-view+json": {
       "model_id": "c72cd3b7d89046ce80809cc46844c7a6",
       "version_major": 2,
       "version_minor": 0
      },
      "text/plain": [
       "HTML(value='<h2>See the vocabulary</h2>')"
      ]
     },
     "metadata": {},
     "output_type": "display_data"
    },
    {
     "data": {
      "application/vnd.jupyter.widget-view+json": {
       "model_id": "2f4ce3ddf47d4b3cb1570facc6761b38",
       "version_major": 2,
       "version_minor": 0
      },
      "text/plain": [
       "Button(description='Voir', style=ButtonStyle())"
      ]
     },
     "metadata": {},
     "output_type": "display_data"
    }
   ],
   "source": [
    "text = widgets.HTML(value=\"<h2>See the vocabulary</h2>\")\n",
    "display(text)\n",
    "\n",
    "\n",
    "def on_submit_vocabulary_btn(button):\n",
    "    global corpus\n",
    "    corpus.get_vocabulary_stats()\n",
    "\n",
    "\n",
    "search_btn = widgets.Button(description=\"Voir\")\n",
    "search_btn.on_click(on_submit_vocabulary_btn)\n",
    "\n",
    "display(search_btn)\n",
    "\n",
    "\n"
   ]
  },
  {
   "cell_type": "code",
   "execution_count": null,
   "metadata": {},
   "outputs": [],
   "source": [
    "text = widgets.HTML(value=\"<h2>See word frequencies</h2>\")\n",
    "display(text)\n",
    "\n",
    "\n",
    "def on_submit_frequencies_btn(button):\n",
    "    global corpus\n",
    "    print(corpus.get_word_frequencies())\n",
    "\n",
    "\n",
    "search_btn = widgets.Button(description=\"Voir\")\n",
    "search_btn.on_click(on_submit_frequencies_btn)\n",
    "\n",
    "display(search_btn)\n",
    "\n"
   ]
  }
 ],
 "metadata": {
  "kernelspec": {
   "display_name": "Python 3 (ipykernel)",
   "language": "python",
   "name": "python3"
  },
  "language_info": {
   "codemirror_mode": {
    "name": "ipython",
    "version": 3
   },
   "file_extension": ".py",
   "mimetype": "text/x-python",
   "name": "python",
   "nbconvert_exporter": "python",
   "pygments_lexer": "ipython3",
   "version": "3.10.11"
  }
 },
 "nbformat": 4,
 "nbformat_minor": 4
}
