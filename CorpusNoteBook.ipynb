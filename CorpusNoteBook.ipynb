{
 "cells": [
  {
   "cell_type": "code",
   "execution_count": 20,
   "metadata": {},
   "outputs": [
    {
     "data": {
      "text/plain": [
       "True"
      ]
     },
     "execution_count": 20,
     "metadata": {},
     "output_type": "execute_result"
    }
   ],
   "source": [
    "from datetime import datetime\n",
    "import praw\n",
    "import prawcore\n",
    "import sys\n",
    "from models.Author import Author\n",
    "from models.document_factory import DocumentFactory\n",
    "import urllib, urllib.request\n",
    "import xmltodict\n",
    "import dill\n",
    "import os\n",
    "from models.Corpus import Corpus\n",
    "from dotenv import load_dotenv\n",
    "\n",
    "load_dotenv()"
   ]
  },
  {
   "cell_type": "code",
   "execution_count": 21,
   "metadata": {},
   "outputs": [],
   "source": [
    "listData = []\n",
    "\n",
    "\n",
    "def fetch_reddit_data(query, limit=10):\n",
    "    \"\"\"\n",
    "    Fetches data from Reddit and fills the listData list with it.\n",
    "    @param query: the query to search for\n",
    "    @param limit: the maximum number of posts to fetch (default: 10)\n",
    "    @return: None\n",
    "    \"\"\"\n",
    "    client_id = os.environ.get(\"REDDIT_CLIENT_ID\")\n",
    "    client_secret = os.environ.get(\"REDDIT_SECRET_ID\")\n",
    "    user_agent = os.environ.get(\"REDDIT_USER_AGENT\")\n",
    "\n",
    "    reddit = praw.Reddit(\n",
    "        client_id=client_id,\n",
    "        client_secret=client_secret,\n",
    "        user_agent=user_agent,\n",
    "    )\n",
    "\n",
    "    hot_posts = reddit.subreddit(query).hot(limit=limit)\n",
    "    try:\n",
    "        for post in hot_posts:\n",
    "            if post.selftext != \"\":\n",
    "                titre = (\n",
    "                    post.title.encode(\"utf-8\", errors=\"ignore\")\n",
    "                    .decode(\"utf-8\")\n",
    "                    .replace(\"\\n\", \"\")\n",
    "                )\n",
    "\n",
    "                auteur = str(post.author)\n",
    "                date = datetime.fromtimestamp(post.created_utc).strftime(\"%Y/%m/%d\")\n",
    "                url = post.url\n",
    "                texte = post.selftext.replace(\"\\n\", \"\")\n",
    "\n",
    "                doc = DocumentFactory.create_document(\n",
    "                    \"Reddit\",\n",
    "                    titre,\n",
    "                    auteur,\n",
    "                    date,\n",
    "                    url,\n",
    "                    texte,\n",
    "                )\n",
    "                listData.append((\"Reddit\", doc))\n",
    "    except (\n",
    "        prawcore.exceptions.Redirect,\n",
    "        prawcore.exceptions.Forbidden,\n",
    "        prawcore.exceptions.NotFound,\n",
    "        prawcore.exceptions.ServerError,\n",
    "        prawcore.exceptions.ResponseException,\n",
    "    ) as e:\n",
    "        print(\"[ERRER] -- While fetching data from Reddit, an error occured:\")\n",
    "        if e.response.status_code == 404:\n",
    "            print(\n",
    "                \"\"\"\n",
    "********************************************************\n",
    "The subreddit you entered does not exist.\n",
    "Please make sure you entered the correct subreddit name.\n",
    "********************************************************\n",
    "            \"\"\"\n",
    "            )\n",
    "        elif e.response.status_code == 403:\n",
    "            print(\n",
    "                \"\"\"\n",
    "********************************************************\n",
    "You are not allowed to access this subreddit.\n",
    "Please make sure you entered the correct subreddit name.\n",
    "********************************************************\n",
    "            \"\"\"\n",
    "            )\n",
    "        elif e.response.status_code == 302:\n",
    "            print(\n",
    "                \"\"\"\n",
    "********************************************************\n",
    "The subreddit you entered does not exist.\n",
    "Please make sure you entered the correct subreddit name.\n",
    "********************************************************\n",
    "            \"\"\"\n",
    "            )\n",
    "        elif e.response.status_code == 500:\n",
    "            print(\n",
    "                \"\"\"\n",
    "********************************************************\n",
    "An internal server error occured.\n",
    "Please try again later.\n",
    "********************************************************\n",
    "            \"\"\"\n",
    "            )\n",
    "        else:\n",
    "            print(e.response.status_code)\n",
    "            print(\"Exiting...\")\n",
    "            sys.exit(1)\n",
    "\n",
    "\n",
    "def fetch_arxiv_data(query, limit=10):\n",
    "    \"\"\"\n",
    "    Fetches data from Arxiv and fills the listData list with it.\n",
    "    @param query: the query to search for\n",
    "    @param limit: the maximum number of posts to fetch (default: 10)\n",
    "    @return: None\n",
    "    \"\"\"\n",
    "    url = (\n",
    "        \"http://export.arxiv.org/api/query?search_query=all:\"\n",
    "        + query\n",
    "        + \"&start=0&max_results=\"\n",
    "        + str(limit)\n",
    "    )\n",
    "\n",
    "    data = urllib.request.urlopen(url).read().decode(\"utf-8\")\n",
    "\n",
    "    # transform the data from xml to json\n",
    "\n",
    "    dataToJson = xmltodict.parse(data)\n",
    "\n",
    "    if (\n",
    "        \"entry\" in dataToJson[\"feed\"]\n",
    "    ):  # check if the key 'entry' exists in the json before trying to access it because it may not exist\n",
    "        adocs = dataToJson[\"feed\"][\"entry\"]\n",
    "        for aPost in adocs:\n",
    "            titre = aPost[\"title\"].replace(\"\\n\", \"\")\n",
    "            try:\n",
    "                authors = \", \".join([a[\"name\"] for a in aPost[\"author\"]])\n",
    "            except TypeError:\n",
    "                authors = aPost[\"author\"][\"name\"]\n",
    "\n",
    "            summary = aPost[\"summary\"].replace(\"\\n\", \"\")\n",
    "            date = datetime.strptime(aPost[\"published\"], \"%Y-%m-%dT%H:%M:%SZ\").strftime(\n",
    "                \"%Y/%m/%d\"\n",
    "            )\n",
    "\n",
    "            adoc = DocumentFactory.create_document(\n",
    "                \"Arxiv\",\n",
    "                titre,\n",
    "                authors,\n",
    "                date,\n",
    "                aPost[\"link\"][1][\"@href\"],\n",
    "                summary,\n",
    "            )\n",
    "            listData.append((\"Arxiv\", adoc))\n",
    "    else:\n",
    "        print(\n",
    "            \"\"\"\n",
    "[ERROR] -- While fetching data from Arxiv, an error occured:\n",
    "********************************************************\n",
    "No 'entry' key found in the (Arxiv) API response. Unable to retrieve document information.\n",
    "********************************************************\n",
    "            \"\"\"\n",
    "        )\n",
    "\n",
    "\n",
    "id2doc = {}\n",
    "\n",
    "\n",
    "def fillDocDict():\n",
    "    global id2doc\n",
    "    global listData\n",
    "    counter = 0\n",
    "    for origin, data in listData:\n",
    "        id = f\"{origin}_{counter}\"\n",
    "        id2doc[id] = data\n",
    "        counter += 1\n",
    "\n",
    "\n",
    "id2aut = {}\n",
    "authors = {}\n",
    "\n",
    "\n",
    "def fillAuthorsDict():\n",
    "    idAuthor = 0\n",
    "    global authors\n",
    "    global id2aut\n",
    "    global id2doc\n",
    "    global nbPosts\n",
    "    for doc in id2doc.values():\n",
    "        if doc.auteur not in id2aut:\n",
    "            idAuthor += 1\n",
    "            authors[idAuthor] = Author(doc.auteur)\n",
    "            id2aut[doc.auteur] = authors[idAuthor]\n",
    "\n",
    "\n",
    "from models.Corpus import Corpus\n",
    "\n",
    "CorpusNoSingleton = Corpus\n",
    "del Corpus\n",
    "corpus = CorpusNoSingleton(\"Mon corpus\")\n",
    "\n",
    "nbPosts = 0\n",
    "\n",
    "\n",
    "def fillCorpus(docType=\"\"):\n",
    "    global nbPosts\n",
    "    global corpus\n",
    "\n",
    "    for origin, d in listData:\n",
    "        if docType == origin:\n",
    "            corpus.add(d)\n",
    "            nbPosts += 1\n",
    "        else:\n",
    "            corpus.add(d)\n",
    "            nbPosts += 1\n",
    "\n",
    "\n",
    "def get_existing_data():\n",
    "    global corpus\n",
    "    with open(f\"./corpus.pkl\", \"rb\") as f:\n",
    "        corpus = dill.load(f)\n",
    "    print(f\"{len(corpus.id2doc)} posts were retrieved from the corpus.\")\n",
    "    return corpus\n",
    "\n",
    "\n",
    "def fetch_new_data(query, limit):\n",
    "    global corpus\n",
    "    global nbPosts\n",
    "    global listData\n",
    "    global id2doc\n",
    "    global id2aut\n",
    "    global authors\n",
    "\n",
    "    listData = []\n",
    "    id2doc = {}\n",
    "    id2aut = {}\n",
    "    authors = {}\n",
    "\n",
    "    print(\"-\" * 50)\n",
    "    print(\"Fetching data from Reddit...\")\n",
    "    fetch_reddit_data(query, limit)\n",
    "\n",
    "    print(\"-\" * 50)\n",
    "    print(\"Fetching data from Arxiv...\")\n",
    "    fetch_arxiv_data(query, limit)\n",
    "\n",
    "    print(\"-\" * 50)\n",
    "    print(\"Filling the document dictionary...\")\n",
    "    fillDocDict()\n",
    "\n",
    "    print(\"-\" * 50)\n",
    "    print(\"Filling the authors dictionary...\")\n",
    "    fillAuthorsDict()\n",
    "\n",
    "    print(\"-\" * 50)\n",
    "    print(\"Filling the corpus...\")\n",
    "    fillCorpus()\n",
    "\n",
    "    print(\"-\" * 50)\n",
    "    print(\"Saving the corpus...\")\n",
    "    corpus.save()\n",
    "    print(\"Corpus saved successfully!\")\n",
    "    print(f\"{len(corpus.id2doc)} posts were fetched and saved from Reddit and Arxiv.\")\n",
    "    print(\"-\" * 50)\n",
    "    return corpus"
   ]
  },
  {
   "cell_type": "code",
   "execution_count": 22,
   "metadata": {},
   "outputs": [
    {
     "data": {
      "application/vnd.jupyter.widget-view+json": {
       "model_id": "b3018063d3b944e48df927c752e4be17",
       "version_major": 2,
       "version_minor": 0
      },
      "text/plain": [
       "Text(value='', description='Mot-clé :')"
      ]
     },
     "metadata": {},
     "output_type": "display_data"
    },
    {
     "data": {
      "application/vnd.jupyter.widget-view+json": {
       "model_id": "343e31e81a784a3cb9b6d66293a08153",
       "version_major": 2,
       "version_minor": 0
      },
      "text/plain": [
       "IntSlider(value=10, description=\"Nombre d'articles :\", min=1)"
      ]
     },
     "metadata": {},
     "output_type": "display_data"
    },
    {
     "data": {
      "application/vnd.jupyter.widget-view+json": {
       "model_id": "3e2c3820d34b476e951c81fe94778515",
       "version_major": 2,
       "version_minor": 0
      },
      "text/plain": [
       "Button(description='Valider', style=ButtonStyle())"
      ]
     },
     "metadata": {},
     "output_type": "display_data"
    }
   ],
   "source": [
    "import ipywidgets as widgets\n",
    "from IPython.display import display\n",
    "from models.decorators import singleton\n",
    "from models.Corpus import Corpus\n",
    "\n",
    "corpus = Corpus(\"Mon corpus\")\n",
    "\n",
    "\n",
    "mot_clef_textbox = widgets.Text(description=\"Mot-clé :\")\n",
    "nb_articles_slider = widgets.IntSlider(\n",
    "    description=\"Nombre d'articles :\", min=1, max=100, value=10\n",
    ")\n",
    "\n",
    "\n",
    "# Affichage des champs du formulaire\n",
    "\n",
    "\n",
    "display(mot_clef_textbox)\n",
    "\n",
    "\n",
    "display(nb_articles_slider)\n",
    "\n",
    "\n",
    "# Fonction pour récupérer les données lorsque l'utilisateur valide le formulaire\n",
    "\n",
    "\n",
    "def on_submit_button_clicked(button):\n",
    "    query = mot_clef_textbox.value\n",
    "    limit = nb_articles_slider.value\n",
    "    # Utilisation des valeurs saisies par l'utilisateur pour récupérer les données des deux APIs\n",
    "    corpus = fetch_new_data(query, limit)\n",
    "    print(corpus)\n",
    "\n",
    "\n",
    "# Création du bouton de soumission du formulaire\n",
    "\n",
    "\n",
    "def use_local_date(button):\n",
    "    corpus = get_existing_data()\n",
    "    print(corpus)\n",
    "\n",
    "\n",
    "submit_button = widgets.Button(description=\"Valider\")\n",
    "\n",
    "\n",
    "submit_button.on_click(on_submit_button_clicked)\n",
    "display(submit_button)\n",
    "\n",
    "text = widgets.HTML(value=\"<h2>Ou utiliser des données local</h2>\")\n",
    "display(text)\n",
    "existing_data_btn = widgets.Button(description=\"Valider\")\n",
    "existing_data_btn.on_click(use_local_date)\n",
    "display(existing_data_btn)"
   ]
  },
  {
   "cell_type": "code",
   "execution_count": 23,
   "metadata": {},
   "outputs": [
    {
     "data": {
      "application/vnd.jupyter.widget-view+json": {
       "model_id": "cea26bd84bc541999c0a0788752cd6d6",
       "version_major": 2,
       "version_minor": 0
      },
      "text/plain": [
       "Button(description='Valider', style=ButtonStyle())"
      ]
     },
     "metadata": {},
     "output_type": "display_data"
    },
    {
     "data": {
      "application/vnd.jupyter.widget-view+json": {
       "model_id": "eb0635a0875340fd9ced1b320fd00ac3",
       "version_major": 2,
       "version_minor": 0
      },
      "text/plain": [
       "Text(value='', description='Enter a query to search for :')"
      ]
     },
     "metadata": {},
     "output_type": "display_data"
    },
    {
     "data": {
      "application/vnd.jupyter.widget-view+json": {
       "model_id": "f0c8602ded164877afe4dc4eb1cfee27",
       "version_major": 2,
       "version_minor": 0
      },
      "text/plain": [
       "IntSlider(value=30, description='Choose a context length :', min=1)"
      ]
     },
     "metadata": {},
     "output_type": "display_data"
    }
   ],
   "source": [
    "search_box = widgets.Text(description=\"Enter a query to search for :\")\n",
    "search_length = widgets.IntSlider(\n",
    "    description=\"Choose a context length :\", min=1, max=100, value=30\n",
    ")\n",
    "search_btn = widgets.Button(description=\"Valider\")\n",
    "\n",
    "\n",
    "def on_submit_search_btn(button):\n",
    "    global corpus\n",
    "\n",
    "    query = search_box.value\n",
    "\n",
    "    nb = search_length.value\n",
    "    passages = corpus.search(query, context_length=nb)\n",
    "    if not passages:\n",
    "        print(\"No matches found.\")\n",
    "    else:\n",
    "        print(f\"Number of passages containing the keyword '{query}': {len(passages)}\\n\")\n",
    "        print(\"Passages containing the keyword:\\n\")\n",
    "        for passage in passages:\n",
    "            print(f\"{passage}\\n\")\n",
    "\n",
    "\n",
    "search_btn.on_click(on_submit_search_btn)\n",
    "\n",
    "display(search_btn)\n",
    "display(search_box)\n",
    "display(search_length)"
   ]
  },
  {
   "cell_type": "code",
   "execution_count": 24,
   "metadata": {},
   "outputs": [
    {
     "data": {
      "application/vnd.jupyter.widget-view+json": {
       "model_id": "173bf5198fe94381a81eceb321b001e3",
       "version_major": 2,
       "version_minor": 0
      },
      "text/plain": [
       "HTML(value='<h2>Search for a keyword</h2>')"
      ]
     },
     "metadata": {},
     "output_type": "display_data"
    },
    {
     "data": {
      "application/vnd.jupyter.widget-view+json": {
       "model_id": "4c75baed4a6041d49c981d6c56b0a1f3",
       "version_major": 2,
       "version_minor": 0
      },
      "text/plain": [
       "HTML(value='<b>Enter a query to search for :</b>')"
      ]
     },
     "metadata": {},
     "output_type": "display_data"
    },
    {
     "data": {
      "application/vnd.jupyter.widget-view+json": {
       "model_id": "e4b985ef1688461aa4109428e064347a",
       "version_major": 2,
       "version_minor": 0
      },
      "text/plain": [
       "Text(value='')"
      ]
     },
     "metadata": {},
     "output_type": "display_data"
    },
    {
     "data": {
      "application/vnd.jupyter.widget-view+json": {
       "model_id": "f102ee8710df42448fb011b9de9ca3ca",
       "version_major": 2,
       "version_minor": 0
      },
      "text/plain": [
       "HTML(value='<b>Choose a context length :</b>')"
      ]
     },
     "metadata": {},
     "output_type": "display_data"
    },
    {
     "data": {
      "application/vnd.jupyter.widget-view+json": {
       "model_id": "5998769983bf474381d0a38554d218ce",
       "version_major": 2,
       "version_minor": 0
      },
      "text/plain": [
       "IntSlider(value=30, min=1)"
      ]
     },
     "metadata": {},
     "output_type": "display_data"
    },
    {
     "data": {
      "application/vnd.jupyter.widget-view+json": {
       "model_id": "a5d1b3bd314a4d46801e375aa684dab3",
       "version_major": 2,
       "version_minor": 0
      },
      "text/plain": [
       "Button(description='Valider', style=ButtonStyle())"
      ]
     },
     "metadata": {},
     "output_type": "display_data"
    }
   ],
   "source": [
    "text = widgets.HTML(value=\"<h2>See the concordance of a keyword</h2>\")\n",
    "display(text)\n",
    "\n",
    "text = widgets.HTML(value=\"<b>Enter a query to search for :</b>\")\n",
    "display(text)\n",
    "\n",
    "search_box = widgets.Text()\n",
    "display(search_box)\n",
    "\n",
    "\n",
    "text = widgets.HTML(value=\"<b>Choose a left context length :</b>\")\n",
    "display(text)\n",
    "left_search_length = widgets.IntSlider(min=1, max=100, value=30)\n",
    "display(left_search_length)\n",
    "\n",
    "\n",
    "text = widgets.HTML(value=\"<b>Choose a right context length :</b>\")\n",
    "display(text)\n",
    "right_search_length = widgets.IntSlider(min=1, max=100, value=30)\n",
    "display(right_search_length)\n",
    "\n",
    "\n",
    "def on_submit_concordance_btn(button):\n",
    "    global corpus\n",
    "    query = search_box.value\n",
    "    nl = left_search_length.value\n",
    "    nr = right_search_length.value\n",
    "    df = corpus.concorde(query, taill=(nl, nr))\n",
    "    if len(df) == 0:\n",
    "        print(\"No matches found.\")\n",
    "    else:\n",
    "        print(df)\n",
    "\n",
    "\n",
    "search_btn = widgets.Button(description=\"Valider\")\n",
    "search_btn.on_click(on_submit_concordance_btn)\n",
    "\n",
    "display(search_btn)"
   ]
  },
  {
   "cell_type": "code",
   "execution_count": null,
   "metadata": {},
   "outputs": [],
   "source": []
  },
  {
   "cell_type": "code",
   "execution_count": 25,
   "metadata": {},
   "outputs": [
    {
     "data": {
      "application/vnd.jupyter.widget-view+json": {
       "model_id": "38cf0e3d3bc94fb6afbab5d895a462ca",
       "version_major": 2,
       "version_minor": 0
      },
      "text/plain": [
       "HTML(value='<h2>See the concordance of a keyword</h2>')"
      ]
     },
     "metadata": {},
     "output_type": "display_data"
    },
    {
     "data": {
      "application/vnd.jupyter.widget-view+json": {
       "model_id": "5871a399ad2f40989ca894bc4f0138b1",
       "version_major": 2,
       "version_minor": 0
      },
      "text/plain": [
       "HTML(value='<b>Enter a query to search for :</b>')"
      ]
     },
     "metadata": {},
     "output_type": "display_data"
    },
    {
     "data": {
      "application/vnd.jupyter.widget-view+json": {
       "model_id": "a659b0e716414a158aabfc3d5852ddf3",
       "version_major": 2,
       "version_minor": 0
      },
      "text/plain": [
       "Text(value='')"
      ]
     },
     "metadata": {},
     "output_type": "display_data"
    },
    {
     "data": {
      "application/vnd.jupyter.widget-view+json": {
       "model_id": "2b088774548644e99c12db272682cb7f",
       "version_major": 2,
       "version_minor": 0
      },
      "text/plain": [
       "HTML(value='<b>Choose a left context length :</b>')"
      ]
     },
     "metadata": {},
     "output_type": "display_data"
    },
    {
     "data": {
      "application/vnd.jupyter.widget-view+json": {
       "model_id": "15ea8633783347368e7c2299b30d0bbe",
       "version_major": 2,
       "version_minor": 0
      },
      "text/plain": [
       "IntSlider(value=30, min=1)"
      ]
     },
     "metadata": {},
     "output_type": "display_data"
    },
    {
     "data": {
      "application/vnd.jupyter.widget-view+json": {
       "model_id": "3984bf2095cf454192f8c8cf63f14c91",
       "version_major": 2,
       "version_minor": 0
      },
      "text/plain": [
       "HTML(value='<b>Choose a right context length :</b>')"
      ]
     },
     "metadata": {},
     "output_type": "display_data"
    },
    {
     "data": {
      "application/vnd.jupyter.widget-view+json": {
       "model_id": "0b919904f16345d0a6af4e0bb8eaa15e",
       "version_major": 2,
       "version_minor": 0
      },
      "text/plain": [
       "IntSlider(value=30, min=1)"
      ]
     },
     "metadata": {},
     "output_type": "display_data"
    },
    {
     "data": {
      "application/vnd.jupyter.widget-view+json": {
       "model_id": "d993b1f486b940e8957b42cded8a80c7",
       "version_major": 2,
       "version_minor": 0
      },
      "text/plain": [
       "Button(description='Valider', style=ButtonStyle())"
      ]
     },
     "metadata": {},
     "output_type": "display_data"
    }
   ],
   "source": [
    "text = widgets.HTML(value=\"<h2>See the stats of the corpus</h2>\")\n",
    "display(text)\n",
    "\n",
    "\n",
    "text = widgets.HTML(value=\"<b>Enter the number of most frequent words to show :</b>\")\n",
    "display(text)\n",
    "search_length = widgets.IntSlider(min=1, max=100, value=30)\n",
    "display(search_length)\n",
    "\n",
    "\n",
    "def on_submit_cstats_btn(button):\n",
    "    global corpus\n",
    "    query = search_box.value\n",
    "    n = search_length.value\n",
    "    corpus.stats(top_n=n)\n",
    "\n",
    "\n",
    "search_btn = widgets.Button(description=\"Valider\")\n",
    "search_btn.on_click(on_submit_cstats_btn)\n",
    "\n",
    "display(search_btn)"
   ]
  },
  {
   "cell_type": "code",
   "execution_count": 26,
   "metadata": {},
   "outputs": [
    {
     "data": {
      "application/vnd.jupyter.widget-view+json": {
       "model_id": "d3ce66cccc254fab973ddecf3ce0f9a8",
       "version_major": 2,
       "version_minor": 0
      },
      "text/plain": [
       "HTML(value='<h2>See the stats of the corpus</h2>')"
      ]
     },
     "metadata": {},
     "output_type": "display_data"
    },
    {
     "data": {
      "application/vnd.jupyter.widget-view+json": {
       "model_id": "034858569ec146afb5182996bc36928c",
       "version_major": 2,
       "version_minor": 0
      },
      "text/plain": [
       "HTML(value='<b>Enter the number of most frequent words to show :</b>')"
      ]
     },
     "metadata": {},
     "output_type": "display_data"
    },
    {
     "data": {
      "application/vnd.jupyter.widget-view+json": {
       "model_id": "604fc2c915374d3bb68a1bcaf83d7394",
       "version_major": 2,
       "version_minor": 0
      },
      "text/plain": [
       "IntSlider(value=30, min=1)"
      ]
     },
     "metadata": {},
     "output_type": "display_data"
    },
    {
     "data": {
      "application/vnd.jupyter.widget-view+json": {
       "model_id": "f124500d69db453784d7d703c743f01f",
       "version_major": 2,
       "version_minor": 0
      },
      "text/plain": [
       "Button(description='Valider', style=ButtonStyle())"
      ]
     },
     "metadata": {},
     "output_type": "display_data"
    }
   ],
   "source": [
    "text = widgets.HTML(value=\"<h2>See the vocabulary</h2>\")\n",
    "display(text)\n",
    "\n",
    "\n",
    "def on_submit_vocabulary_btn(button):\n",
    "    global corpus\n",
    "    corpus.get_vocabulary_stats()\n",
    "\n",
    "\n",
    "search_btn = widgets.Button(description=\"Voir\")\n",
    "search_btn.on_click(on_submit_vocabulary_btn)\n",
    "\n",
    "display(search_btn)"
   ]
  },
  {
   "cell_type": "code",
   "execution_count": 27,
   "metadata": {},
   "outputs": [
    {
     "data": {
      "application/vnd.jupyter.widget-view+json": {
       "model_id": "aceea7f43b714d12a20f06e16b19c2b8",
       "version_major": 2,
       "version_minor": 0
      },
      "text/plain": [
       "HTML(value='<h2>See the vocabulary</h2>')"
      ]
     },
     "metadata": {},
     "output_type": "display_data"
    },
    {
     "data": {
      "application/vnd.jupyter.widget-view+json": {
       "model_id": "392906fb1daa4231b3f28c0ea800b87f",
       "version_major": 2,
       "version_minor": 0
      },
      "text/plain": [
       "Button(description='Voir', style=ButtonStyle())"
      ]
     },
     "metadata": {},
     "output_type": "display_data"
    }
   ],
   "source": [
    "text = widgets.HTML(value=\"<h2>See word frequencies</h2>\")\n",
    "display(text)\n",
    "\n",
    "\n",
    "def on_submit_frequencies_btn(button):\n",
    "    global corpus\n",
    "    print(corpus.get_word_frequencies())\n",
    "\n",
    "\n",
    "search_btn = widgets.Button(description=\"Voir\")\n",
    "search_btn.on_click(on_submit_frequencies_btn)\n",
    "\n",
    "display(search_btn)"
   ]
  },
  {
   "cell_type": "code",
   "execution_count": 28,
   "metadata": {},
   "outputs": [
    {
     "data": {
      "application/vnd.jupyter.widget-view+json": {
       "model_id": "46b421ba8c8e402887cf8fd9bca2efde",
       "version_major": 2,
       "version_minor": 0
      },
      "text/plain": [
       "HTML(value='<h2>See word frequencies</h2>')"
      ]
     },
     "metadata": {},
     "output_type": "display_data"
    },
    {
     "data": {
      "application/vnd.jupyter.widget-view+json": {
       "model_id": "2eec0850bcc14a2081bfbc06c9f9de09",
       "version_major": 2,
       "version_minor": 0
      },
      "text/plain": [
       "Button(description='Voir', style=ButtonStyle())"
      ]
     },
     "metadata": {},
     "output_type": "display_data"
    }
   ],
   "source": [
    "text = widgets.HTML(value=\"<h2>Use the search engine</h2>\")\n",
    "display(text)\n",
    "\n",
    "\n",
    "text = widgets.HTML(value=\"<b>Enter keywords to search for :</b>\")\n",
    "display(text)\n",
    "search_query = widgets.Text()\n",
    "display(search_query)\n",
    "\n",
    "\n",
    "def on_submit_cstats_btn(button):\n",
    "    global corpus\n",
    "    query = search_query.value\n",
    "    scores = corpus.rank_after_scoring(corpus.search_on_scoring(query))\n",
    "    print(f\"Here are the best {len(scores)} result(s) for your query :\\n\")\n",
    "    for id, score in scores:\n",
    "        print(\"-\" * 50)\n",
    "        print(\n",
    "            f\"Document:\\nTitle : {corpus.id2doc[id].titre}\\nAuthor : {corpus.id2doc[id].auteur}\\nText : {corpus.id2doc[id].texte}\\nURL : {corpus.id2doc[id].url}\\nDate : {corpus.id2doc[id].date}\\n\"\n",
    "        )\n",
    "        print(f\"This document has a score of {score} concerning your request\\n\")\n",
    "        print(\"-\" * 50)\n",
    "\n",
    "\n",
    "search_btn = widgets.Button(description=\"Search\")\n",
    "search_btn.on_click(on_submit_cstats_btn)\n",
    "\n",
    "display(search_btn)"
   ]
  }
 ],
 "metadata": {
  "kernelspec": {
   "display_name": "Python 3 (ipykernel)",
   "language": "python",
   "name": "python3"
  },
  "language_info": {
   "codemirror_mode": {
    "name": "ipython",
    "version": 3
   },
   "file_extension": ".py",
   "mimetype": "text/x-python",
   "name": "python",
   "nbconvert_exporter": "python",
   "pygments_lexer": "ipython3",
   "version": "3.11.5"
  }
 },
 "nbformat": 4,
 "nbformat_minor": 4
}
